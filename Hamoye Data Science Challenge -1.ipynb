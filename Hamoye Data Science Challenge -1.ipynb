{
 "cells": [
  {
   "cell_type": "code",
   "execution_count": 1,
   "metadata": {},
   "outputs": [],
   "source": [
    "#Answer the following questions based on the African food production dataset provided by the FAO website already provided\n",
    "#\"https://github.com/HamoyeHQ/HDSC-Introduction-to-Python-for-machine-learning\"\n",
    "#What is the total sum of Animal Fat produced in 2014 and 2017 respectively?"
   ]
  },
  {
   "cell_type": "code",
   "execution_count": 2,
   "metadata": {},
   "outputs": [],
   "source": [
    "import pandas as pd\n",
    "import numpy as np\n",
    "finaldf = pd.read_csv(\"C:/Users/Lenovo/Downloads/FoodBalanceSheets_E_Africa_NOFLAG.csv\", encoding=\"unicode_escape\")"
   ]
  },
  {
   "cell_type": "code",
   "execution_count": 3,
   "metadata": {},
   "outputs": [
    {
     "name": "stdout",
     "output_type": "stream",
     "text": [
      "Total sum of Animal Fat produced in 2014 :  209460\n",
      "\n",
      "Total sum of Animal Fat produced in 2017 :  269617\n"
     ]
    }
   ],
   "source": [
    "df1=finaldf[finaldf['Item']=='Animal fats']\n",
    "ans11_1= df1.groupby('Item')['Y2014'].sum()\n",
    "ans11_2= df1.groupby('Item')['Y2017'].sum()\n",
    "ans11_1=int(ans11_1)\n",
    "ans11_2=int(ans11_2)\n",
    "print(\"Total sum of Animal Fat produced in 2014 : \",ans11_1)\n",
    "print(\"\\nTotal sum of Animal Fat produced in 2017 : \", ans11_2)"
   ]
  },
  {
   "cell_type": "code",
   "execution_count": 4,
   "metadata": {},
   "outputs": [],
   "source": [
    "#What is the mean and standard deviation across the whole dataset for the year 2015 to 3 decimal places?"
   ]
  },
  {
   "cell_type": "code",
   "execution_count": 5,
   "metadata": {},
   "outputs": [
    {
     "name": "stdout",
     "output_type": "stream",
     "text": [
      "Mean for the year 2015 to 3 decimal places :  135.236\n",
      "\n",
      "Standard deviation for the year 2015 to 3 decimal places :  1603.404\n"
     ]
    }
   ],
   "source": [
    "print(\"Mean for the year 2015 to 3 decimal places : \",round(finaldf['Y2015'].mean(),3))\n",
    "print(\"\\nStandard deviation for the year 2015 to 3 decimal places : \",round(finaldf['Y2015'].std(),3))"
   ]
  },
  {
   "cell_type": "code",
   "execution_count": 6,
   "metadata": {},
   "outputs": [],
   "source": [
    "#What is the total number and percentage of missing data in 2016 to 2 decimal places?"
   ]
  },
  {
   "cell_type": "code",
   "execution_count": 7,
   "metadata": {},
   "outputs": [
    {
     "name": "stdout",
     "output_type": "stream",
     "text": [
      "Total number of missing data in 2016 :  1535\n",
      "\n",
      "Percentage of missing data in 2016 to 2 decimal places :  2.52\n"
     ]
    }
   ],
   "source": [
    "missing = finaldf['Y2016'].isnull().sum()\n",
    "perc = missing*100/ len(finaldf)\n",
    "print(\"Total number of missing data in 2016 : \",missing)\n",
    "print(\"\\nPercentage of missing data in 2016 to 2 decimal places : \",round(perc,2))"
   ]
  },
  {
   "cell_type": "code",
   "execution_count": 8,
   "metadata": {},
   "outputs": [],
   "source": [
    "#Which year had the highest correlation with ‘Element Code’? "
   ]
  },
  {
   "cell_type": "code",
   "execution_count": 9,
   "metadata": {},
   "outputs": [
    {
     "name": "stdout",
     "output_type": "stream",
     "text": [
      "Year had the highest correlation with 'Element Code' is  Y2014    0.021722\n",
      "Name: Item Code, dtype: float64\n"
     ]
    }
   ],
   "source": [
    "maxyear=finaldf.corr().loc['Item Code'][3:]\n",
    "print(\"Year had the highest correlation with 'Element Code' is \",maxyear[maxyear == maxyear.max()])\n"
   ]
  },
  {
   "cell_type": "code",
   "execution_count": 10,
   "metadata": {},
   "outputs": [],
   "source": [
    "#What year has the highest sum of Import Quantity?"
   ]
  },
  {
   "cell_type": "code",
   "execution_count": 11,
   "metadata": {
    "scrolled": true
   },
   "outputs": [
    {
     "name": "stdout",
     "output_type": "stream",
     "text": [
      "                     Y2014      Y2015      Y2016      Y2017      Y2018\n",
      "Element                                                               \n",
      "Import Quantity  274144.48  267018.46  286582.78  294559.09  287997.09\n",
      "\n",
      "Year with the highest sum of Import Quantity is Y2017 \n"
     ]
    },
    {
     "name": "stderr",
     "output_type": "stream",
     "text": [
      "<ipython-input-11-027c65460af8>:3: FutureWarning: Indexing with multiple keys (implicitly converted to a tuple of keys) will be deprecated, use a list instead.\n",
      "  ans15.append(df2.groupby('Element')['Y2014','Y2015','Y2016','Y2017','Y2018'].sum())\n"
     ]
    }
   ],
   "source": [
    "ans15=[]\n",
    "df2=finaldf[finaldf['Element']=='Import Quantity']\n",
    "ans15.append(df2.groupby('Element')['Y2014','Y2015','Y2016','Y2017','Y2018'].sum())\n",
    "print(ans15[0])\n",
    "print(\"\\nYear with the highest sum of Import Quantity is Y2017 \")"
   ]
  },
  {
   "cell_type": "code",
   "execution_count": 12,
   "metadata": {},
   "outputs": [],
   "source": [
    "#What is the total number of the sum of Production in 2014?"
   ]
  },
  {
   "cell_type": "code",
   "execution_count": 13,
   "metadata": {},
   "outputs": [
    {
     "name": "stdout",
     "output_type": "stream",
     "text": [
      "Total number of the sum of Production in 2014 : 1931287.7500000005\n"
     ]
    }
   ],
   "source": [
    "df3=finaldf[finaldf['Element']=='Production']\n",
    "ans16 = df3.groupby('Element')['Y2014'].sum()\n",
    "print(\"Total number of the sum of Production in 2014 :\",ans16[0])"
   ]
  },
  {
   "cell_type": "code",
   "execution_count": 14,
   "metadata": {},
   "outputs": [],
   "source": [
    "#Which of these elements had the highest sum in 2018?"
   ]
  },
  {
   "cell_type": "code",
   "execution_count": 15,
   "metadata": {},
   "outputs": [
    {
     "name": "stdout",
     "output_type": "stream",
     "text": [
      "With 2161192.1 elements Domestic supply quantity  has the highest sum in 2018 \n"
     ]
    }
   ],
   "source": [
    "ans17 = finaldf.groupby('Element')['Y2018'].sum()\n",
    "print(\"With\",ans17.max() ,\"elements\",ans17.idxmax(),\" has the highest sum in 2018 \")"
   ]
  },
  {
   "cell_type": "code",
   "execution_count": 16,
   "metadata": {},
   "outputs": [],
   "source": [
    "#Which of these elements had the 3rd lowest sum in 2018?"
   ]
  },
  {
   "cell_type": "code",
   "execution_count": 17,
   "metadata": {},
   "outputs": [
    {
     "name": "stdout",
     "output_type": "stream",
     "text": [
      "Element\n",
      "Tourist consumption                            90.00\n",
      "Fat supply quantity (g/capita/day)          10258.69\n",
      "Protein supply quantity (g/capita/day)      11833.56\n",
      "Stock Variation                             20577.91\n",
      "Seed                                        25263.14\n",
      "Residuals                                   34864.00\n",
      "Food supply quantity (kg/capita/yr)         49056.85\n",
      "Other uses (non-food)                       91300.97\n",
      "Losses                                     163902.00\n",
      "Export Quantity                            181594.80\n",
      "Feed                                       233489.68\n",
      "Import Quantity                            287997.09\n",
      "Processing                                 308429.00\n",
      "Food supply (kcal/capita/day)              455261.00\n",
      "Total Population - Both sexes             1140605.00\n",
      "Food                                      1303841.28\n",
      "Production                                2075072.89\n",
      "Domestic supply quantity                  2161192.10\n",
      "Name: Y2018, dtype: float64\n",
      "\n",
      "With 11833.56000000012 elements Protein supply quantity (g/capita/day)  is the 3rd lowest sum in 2018 \n"
     ]
    }
   ],
   "source": [
    "ans18 = finaldf.groupby('Element')['Y2018'].sum()\n",
    "ans18=ans18.sort_values()\n",
    "print(ans18)\n",
    "print(\"\\nWith\",ans18[2] ,\"elements\",ans18.index.values[2],\" is the 3rd lowest sum in 2018 \")"
   ]
  },
  {
   "cell_type": "code",
   "execution_count": 18,
   "metadata": {},
   "outputs": [],
   "source": [
    "#What is the total Import Quantity in Algeria in 2018?"
   ]
  },
  {
   "cell_type": "code",
   "execution_count": 19,
   "metadata": {},
   "outputs": [
    {
     "name": "stdout",
     "output_type": "stream",
     "text": [
      "Total Import Quantity in Algeria in 2018 is  36238.29\n"
     ]
    }
   ],
   "source": [
    "df4=finaldf[(finaldf['Element']=='Import Quantity') & (finaldf['Area']=='Algeria')]\n",
    "ans19 = df4.groupby(['Area','Element'])['Y2018'].sum()\n",
    "print(\"Total Import Quantity in Algeria in 2018 is \",ans19[0])"
   ]
  },
  {
   "cell_type": "code",
   "execution_count": 20,
   "metadata": {},
   "outputs": [],
   "source": [
    "#What is the total number of unique countries in the dataset?"
   ]
  },
  {
   "cell_type": "code",
   "execution_count": 21,
   "metadata": {},
   "outputs": [
    {
     "name": "stdout",
     "output_type": "stream",
     "text": [
      "Total number of unique countries in the dataset :  49\n"
     ]
    }
   ],
   "source": [
    "s=set(finaldf[\"Area\"])\n",
    "ans20 = list(s)\n",
    "print(\"Total number of unique countries in the dataset : \",len(ans20))"
   ]
  },
  {
   "cell_type": "code",
   "execution_count": null,
   "metadata": {},
   "outputs": [],
   "source": []
  }
 ],
 "metadata": {
  "kernelspec": {
   "display_name": "Python 3",
   "language": "python",
   "name": "python3"
  },
  "language_info": {
   "codemirror_mode": {
    "name": "ipython",
    "version": 3
   },
   "file_extension": ".py",
   "mimetype": "text/x-python",
   "name": "python",
   "nbconvert_exporter": "python",
   "pygments_lexer": "ipython3",
   "version": "3.8.3"
  }
 },
 "nbformat": 4,
 "nbformat_minor": 4
}
